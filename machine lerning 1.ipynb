{
 "cells": [
  {
   "cell_type": "code",
   "execution_count": 109,
   "id": "5292395b-c6f9-4848-9342-2bf84e7038c3",
   "metadata": {},
   "outputs": [
    {
     "data": {
      "text/plain": [
       "1.0"
      ]
     },
     "execution_count": 109,
     "metadata": {},
     "output_type": "execute_result"
    }
   ],
   "source": [
    "#HOW TO IMPORT ,PREDICT, TRAIN, TEST A MODEL\n",
    "import pandas as pd\n",
    "from sklearn.tree import DecisionTreeClassifier\n",
    "from sklearn.model_selection import train_test_split\n",
    "from sklearn.metrics import accuracy_score\n",
    "\n",
    "music_data = pd.read_csv(\"C:\\\\Users\\\\user\\\\Downloads\\\\music.csv\")\n",
    "X = music_data.drop(columns=['genre']).values\n",
    "y =  music_data['genre'].values\n",
    "X_train, X_test, y_train ,y_test = train_test_split(X,y, test_size=0.2)\n",
    "                 \n",
    "model=DecisionTreeClassifier()\n",
    "model.fit(X_train,y_train)\n",
    "predictions = model.predict(X_test)\n",
    "\n",
    "score = accuracy_score(y_test, predictions)\n",
    "score"
   ]
  },
  {
   "cell_type": "code",
   "execution_count": 108,
   "id": "c7dd429a-3998-4968-a7b7-dde551df4583",
   "metadata": {},
   "outputs": [
    {
     "data": {
      "text/plain": [
       "array(['HipHop'], dtype=object)"
      ]
     },
     "execution_count": 108,
     "metadata": {},
     "output_type": "execute_result"
    }
   ],
   "source": [
    "#HOW TO PERSIST AND LOAD MODELS\n",
    "import pandas as pd\n",
    "from sklearn.tree import DecisionTreeClassifier\n",
    "import joblib\n",
    "\n",
    "# music_data = pd.read_csv(\"C:\\\\Users\\\\user\\\\Downloads\\\\music.csv\")\n",
    "# X = music_data.drop(columns=['genre']).values\n",
    "# y =  music_data['genre'].values\n",
    "\n",
    "# model=DecisionTreeClassifier()\n",
    "# model.fit(X,y)\n",
    "\n",
    "model = joblib.load('music-recommender.joblib')\n",
    "predictions = model.predict([[21,1]])\n",
    "predictions"
   ]
  },
  {
   "cell_type": "code",
   "execution_count": null,
   "id": "2c08b79e-78f2-419e-b190-e39d6220a16d",
   "metadata": {},
   "outputs": [],
   "source": [
    "#VISUALIZING DECISION TREES\n",
    "import pandas as pd\n",
    "from sklearn.tree import DecisionTreeClassifier\n",
    "from sklearn import tree\n",
    "\n",
    " music_data = pd.read_csv(\"C:\\\\Users\\\\user\\\\Downloads\\\\music.csv\")\n",
    " X = music_data.drop(columns=['genre']).values\n",
    " y =  music_data['genre'].values\n",
    " \n",
    "model = DecisionTreeClassifier()\n",
    "model.fit(X,y)\n",
    "\n",
    "tree.export_graphviz(model, out_file='music-recommender.dot',\n",
    "                    feauter_names=['age' , 'gender'],\n",
    "                    class_names=sorted(y.unique()),\n",
    "                     label='all',\n",
    "                     rounded=True,\n",
    "                     filled=True)\n"
   ]
  }
 ],
 "metadata": {
  "kernelspec": {
   "display_name": "Python 3 (ipykernel)",
   "language": "python",
   "name": "python3"
  },
  "language_info": {
   "codemirror_mode": {
    "name": "ipython",
    "version": 3
   },
   "file_extension": ".py",
   "mimetype": "text/x-python",
   "name": "python",
   "nbconvert_exporter": "python",
   "pygments_lexer": "ipython3",
   "version": "3.11.7"
  }
 },
 "nbformat": 4,
 "nbformat_minor": 5
}
