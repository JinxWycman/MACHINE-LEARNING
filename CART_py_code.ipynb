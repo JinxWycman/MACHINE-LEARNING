{
  "nbformat": 4,
  "nbformat_minor": 0,
  "metadata": {
    "colab": {
      "provenance": [],
      "authorship_tag": "ABX9TyM5uTK4wR4ePN0CLjMLh3Mh",
      "include_colab_link": true
    },
    "kernelspec": {
      "name": "python3",
      "display_name": "Python 3"
    },
    "language_info": {
      "name": "python"
    }
  },
  "cells": [
    {
      "cell_type": "markdown",
      "metadata": {
        "id": "view-in-github",
        "colab_type": "text"
      },
      "source": [
        "<a href=\"https://colab.research.google.com/github/JinxWycman/MACHINE-LEARNING/blob/main/CART_py_code.ipynb\" target=\"_parent\"><img src=\"https://colab.research.google.com/assets/colab-badge.svg\" alt=\"Open In Colab\"/></a>"
      ]
    },
    {
      "cell_type": "code",
      "execution_count": 2,
      "metadata": {
        "colab": {
          "base_uri": "https://localhost:8080/"
        },
        "id": "87aEC8nzMIBC",
        "outputId": "3a5f76a1-5b40-4a83-dd6b-aca36981754b"
      },
      "outputs": [
        {
          "output_type": "stream",
          "name": "stdout",
          "text": [
            "Accuracy: 0.95\n",
            "Decision Tree Rules:\n",
            "|--- Feature 1 <= 0.20\n",
            "|   |--- Feature 1 <= -0.30\n",
            "|   |   |--- class: 0\n",
            "|   |--- Feature 1 >  -0.30\n",
            "|   |   |--- Feature 2 <= -0.01\n",
            "|   |   |   |--- class: 1\n",
            "|   |   |--- Feature 2 >  -0.01\n",
            "|   |   |   |--- class: 0\n",
            "|--- Feature 1 >  0.20\n",
            "|   |--- class: 1\n",
            "\n"
          ]
        }
      ],
      "source": [
        "import numpy as np\n",
        "import matplotlib.pyplot as plt\n",
        "from sklearn.datasets import make_classification\n",
        "from sklearn.tree import DecisionTreeClassifier, export_text\n",
        "from sklearn.model_selection import train_test_split\n",
        "from sklearn.metrics import accuracy_score\n",
        "# Generate a synthetic dataset for illustration\n",
        "X, y = make_classification(n_samples=100, n_features=2, n_informative=2, n_redundant=0, random_state=42)\n",
        "# Split the dataset into training and testing sets\n",
        "X_train, X_test, y_train, y_test = train_test_split(X, y, test_size=0.2, random_state=42)\n",
        "# Create a CART classifier\n",
        "cart_classifier = DecisionTreeClassifier(random_state=42)\n",
        "# Fit the classifier on the training data\n",
        "cart_classifier.fit(X_train, y_train)\n",
        "# Make predictions on the test data\n",
        "y_pred = cart_classifier.predict(X_test)\n",
        "# Evaluate the accuracy of the classifier\n",
        "accuracy = accuracy_score(y_test, y_pred)\n",
        "print(f'Accuracy: {accuracy:.2f}')\n",
        "# Display the tree structure\n",
        "tree_rules = export_text(cart_classifier, feature_names=['Feature 1', 'Feature 2'])\n",
        "print(\"Decision Tree Rules:\")\n",
        "print(tree_rules)\n",
        "\n",
        "\n"
      ]
    },
    {
      "cell_type": "markdown",
      "source": [
        "\n",
        "Figure 4.7: Output of code 4.4\n",
        "In this code, a synthetic dataset is generated using make_classification. The dataset is split into training and testing sets. A CART classifier is created using DecisionTreeClassifier. The classifier is trained on the training data and evaluated on the test data.\n",
        "**bold text**"
      ],
      "metadata": {
        "id": "8sDympFKMSn5"
      }
    }
  ]
}