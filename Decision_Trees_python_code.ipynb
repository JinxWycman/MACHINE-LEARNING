{
  "nbformat": 4,
  "nbformat_minor": 0,
  "metadata": {
    "colab": {
      "provenance": [],
      "authorship_tag": "ABX9TyNBrcix8gvp/3Sgn0h+0p5y",
      "include_colab_link": true
    },
    "kernelspec": {
      "name": "python3",
      "display_name": "Python 3"
    },
    "language_info": {
      "name": "python"
    }
  },
  "cells": [
    {
      "cell_type": "markdown",
      "metadata": {
        "id": "view-in-github",
        "colab_type": "text"
      },
      "source": [
        "<a href=\"https://colab.research.google.com/github/JinxWycman/MACHINE-LEARNING/blob/main/Decision_Trees_python_code.ipynb\" target=\"_parent\"><img src=\"https://colab.research.google.com/assets/colab-badge.svg\" alt=\"Open In Colab\"/></a>"
      ]
    },
    {
      "cell_type": "code",
      "execution_count": 2,
      "metadata": {
        "colab": {
          "base_uri": "https://localhost:8080/"
        },
        "id": "3Y2UD1-4LcGc",
        "outputId": "334b7731-266f-4603-f866-b05242cb2464"
      },
      "outputs": [
        {
          "output_type": "stream",
          "name": "stdout",
          "text": [
            "Accuracy: 1.0\n"
          ]
        }
      ],
      "source": [
        "from sklearn.tree import DecisionTreeClassifier\n",
        "from sklearn.datasets import load_iris\n",
        "from sklearn.model_selection import train_test_split\n",
        "from sklearn.metrics import accuracy_score\n",
        "# Load the Iris dataset\n",
        "data = load_iris()\n",
        "X = data.data # Features\n",
        "y = data.target # Target (class labels)\n",
        "# Split the data into training and testing sets\n",
        "X_train, X_test, y_train, y_test = train_test_split(X, y, test_size=0.2, random_state=42)\n",
        "# Create a Decision Tree classifier\n",
        "dt_classifier = DecisionTreeClassifier()\n",
        "# Fit the model to the training data\n",
        "dt_classifier.fit(X_train, y_train)\n",
        "# Make predictions on the test data\n",
        "y_pred = dt_classifier.predict(X_test)\n",
        "# Calculate accuracy\n",
        "accuracy = accuracy_score(y_test, y_pred)\n",
        "print(\"Accuracy:\", accuracy)\n"
      ]
    },
    {
      "cell_type": "markdown",
      "source": [
        "**In this code, we load the Iris dataset, a classic dataset for classification. The dataset is split into training and testing sets. We create a Decision Tree classifier using DecisionTreeClassifier from scikit-learn. The model is trained (fit) on the training data. We make predictions on the test data and calculate the accuracy of the model.**"
      ],
      "metadata": {
        "id": "7nIfmlFjLhL9"
      }
    }
  ]
}