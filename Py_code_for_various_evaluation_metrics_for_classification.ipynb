{
  "nbformat": 4,
  "nbformat_minor": 0,
  "metadata": {
    "colab": {
      "provenance": [],
      "authorship_tag": "ABX9TyN97r5lAyXyRiajOjffzrlk",
      "include_colab_link": true
    },
    "kernelspec": {
      "name": "python3",
      "display_name": "Python 3"
    },
    "language_info": {
      "name": "python"
    }
  },
  "cells": [
    {
      "cell_type": "markdown",
      "metadata": {
        "id": "view-in-github",
        "colab_type": "text"
      },
      "source": [
        "<a href=\"https://colab.research.google.com/github/JinxWycman/MACHINE-LEARNING/blob/main/Py_code_for_various_evaluation_metrics_for_classification.ipynb\" target=\"_parent\"><img src=\"https://colab.research.google.com/assets/colab-badge.svg\" alt=\"Open In Colab\"/></a>"
      ]
    },
    {
      "cell_type": "code",
      "execution_count": 1,
      "metadata": {
        "id": "v4qPoji3aLmJ"
      },
      "outputs": [],
      "source": [
        "import numpy as np\n",
        "from sklearn.datasets import load_iris\n",
        "from sklearn.ensemble import RandomForestClassifier\n",
        "from sklearn.model_selection import train_test_split\n",
        "from sklearn.metrics import accuracy_score, confusion_matrix, precision_recall_fscore_support, classification_report\n",
        "import matplotlib.pyplot as plt\n",
        "# Load the Iris dataset\n",
        "iris = load_iris()\n",
        "X = iris.data\n",
        "y = iris.target\n",
        "# Split the dataset into training and testing sets\n",
        "X_train, X_test, y_train, y_test = train_test_split(X, y, test_size=0.2, random_state=42)\n",
        "# Create a Random Forest classifier\n",
        "random_forest_classifier = RandomForestClassifier(n_estimators=100, random_state=42)\n",
        "# Fit the classifier on the training data\n",
        "random_forest_classifier.fit(X_train, y_train)\n",
        "# Make predictions on the test data\n",
        "y_pred = random_forest_classifier.predict(X_test)\n",
        "# Compute various performance measures\n",
        "accuracy = accuracy_score(y_test, y_pred)\n",
        "conf_matrix = confusion_matrix(y_test, y_pred)\n",
        "precision, recall, _, _ = precision_recall_fscore_support(y_test, y_pred, average='weighted')\n",
        "classification_rep = classification_report(y_test, y_pred)\n",
        "# Print performance measures\n",
        "print(f'Accuracy: {accuracy:.2f}')\n",
        "print('\\nConfusion Matrix:')\n",
        "print(conf_matrix)\n",
        "print('\\nPrecision: {:.2f}'.format(precision))\n",
        "print('Recall: {:.2f}'.format(recall))\n",
        "print('\\nClassification Report:')\n",
        "print(classification_rep)"
      ]
    },
    {
      "cell_type": "markdown",
      "source": [
        "In this code, we calculate various evaluation metrics for a classification model trained on the Iris dataset. You can replace the classifier and dataset with your specific data and model. The code covers accuracy, confusion matrix, precision, recall, and F1-Score.\n"
      ],
      "metadata": {
        "id": "WQbUjYzna_-p"
      }
    }
  ]
}